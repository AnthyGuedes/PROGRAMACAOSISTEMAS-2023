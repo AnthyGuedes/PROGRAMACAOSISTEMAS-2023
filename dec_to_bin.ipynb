{
  "nbformat": 4,
  "nbformat_minor": 0,
  "metadata": {
    "colab": {
      "provenance": []
    },
    "kernelspec": {
      "name": "python3",
      "display_name": "Python 3"
    },
    "language_info": {
      "name": "python"
    }
  },
  "cells": [
    {
      "cell_type": "markdown",
      "source": [
        "Codigo para converter decimal (inteiro)<br>para binario"
      ],
      "metadata": {
        "id": "03kOJhI-s-FL"
      }
    },
    {
      "cell_type": "code",
      "execution_count": 24,
      "metadata": {
        "colab": {
          "base_uri": "https://localhost:8080/"
        },
        "id": "-bT1dPCts6H0",
        "outputId": "ffb6ce9c-ca8c-46af-ff60-ab9e1bdb3160"
      },
      "outputs": [
        {
          "output_type": "stream",
          "name": "stdout",
          "text": [
            "Digite um numero:12\n",
            "6 0 0\n",
            "3 0 00\n",
            "1 1 100\n",
            "1100\n"
          ]
        }
      ],
      "source": [
        "numero = int(input('Digite um numero:'))\n",
        "numeroBin = '' #OUTPUT\n",
        "result = int(numero/2)\n",
        "while result >= 1:\n",
        "  sbtn = result*2\n",
        "  diff = numero-sbtn\n",
        "  numeroBin = str(diff)+numeroBin\n",
        "  numero = result\n",
        "  print(result,diff,numeroBin)\n",
        "  if result==1 or result == 0:\n",
        "    break\n",
        "  result = int(numero/2)\n",
        "numeroBin = str(result)+numeroBin\n",
        "print(numeroBin)"
      ]
    }
  ]
}